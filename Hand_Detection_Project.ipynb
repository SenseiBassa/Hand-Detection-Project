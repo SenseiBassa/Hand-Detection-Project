{
  "nbformat": 4,
  "nbformat_minor": 0,
  "metadata": {
    "colab": {
      "provenance": [],
      "authorship_tag": "ABX9TyNTGk72pDpnpjd1bMczm9h3",
      "include_colab_link": true
    },
    "kernelspec": {
      "name": "python3",
      "display_name": "Python 3"
    },
    "language_info": {
      "name": "python"
    }
  },
  "cells": [
    {
      "cell_type": "markdown",
      "metadata": {
        "id": "view-in-github",
        "colab_type": "text"
      },
      "source": [
        "<a href=\"https://colab.research.google.com/github/SenseiBassa/Hand-Detection-Project/blob/main/Hand_Detection_Project.ipynb\" target=\"_parent\"><img src=\"https://colab.research.google.com/assets/colab-badge.svg\" alt=\"Open In Colab\"/></a>"
      ]
    },
    {
      "cell_type": "markdown",
      "source": [
        "## **Bassa Joshua Samuel**\n",
        "\n",
        "---\n",
        "\n",
        "\n",
        "\n",
        "## **Hand Detection** "
      ],
      "metadata": {
        "id": "puzx6og-uC0h"
      }
    },
    {
      "cell_type": "code",
      "execution_count": null,
      "metadata": {
        "colab": {
          "base_uri": "https://localhost:8080/"
        },
        "id": "dkiyNY3mM9XI",
        "outputId": "c45690ea-a4c4-4d79-cf5b-fe4c97a79197"
      },
      "outputs": [
        {
          "output_type": "stream",
          "name": "stdout",
          "text": [
            "Looking in indexes: https://pypi.org/simple, https://us-python.pkg.dev/colab-wheels/public/simple/\n",
            "Requirement already satisfied: mediapipe in /usr/local/lib/python3.10/dist-packages (0.10.0)\n",
            "Requirement already satisfied: absl-py in /usr/local/lib/python3.10/dist-packages (from mediapipe) (1.4.0)\n",
            "Requirement already satisfied: attrs>=19.1.0 in /usr/local/lib/python3.10/dist-packages (from mediapipe) (23.1.0)\n",
            "Requirement already satisfied: flatbuffers>=2.0 in /usr/local/lib/python3.10/dist-packages (from mediapipe) (23.3.3)\n",
            "Requirement already satisfied: matplotlib in /usr/local/lib/python3.10/dist-packages (from mediapipe) (3.7.1)\n",
            "Requirement already satisfied: numpy in /usr/local/lib/python3.10/dist-packages (from mediapipe) (1.22.4)\n",
            "Requirement already satisfied: opencv-contrib-python in /usr/local/lib/python3.10/dist-packages (from mediapipe) (4.7.0.72)\n",
            "Requirement already satisfied: protobuf<4,>=3.11 in /usr/local/lib/python3.10/dist-packages (from mediapipe) (3.20.3)\n",
            "Requirement already satisfied: sounddevice>=0.4.4 in /usr/local/lib/python3.10/dist-packages (from mediapipe) (0.4.6)\n",
            "Requirement already satisfied: CFFI>=1.0 in /usr/local/lib/python3.10/dist-packages (from sounddevice>=0.4.4->mediapipe) (1.15.1)\n",
            "Requirement already satisfied: contourpy>=1.0.1 in /usr/local/lib/python3.10/dist-packages (from matplotlib->mediapipe) (1.0.7)\n",
            "Requirement already satisfied: cycler>=0.10 in /usr/local/lib/python3.10/dist-packages (from matplotlib->mediapipe) (0.11.0)\n",
            "Requirement already satisfied: fonttools>=4.22.0 in /usr/local/lib/python3.10/dist-packages (from matplotlib->mediapipe) (4.39.3)\n",
            "Requirement already satisfied: kiwisolver>=1.0.1 in /usr/local/lib/python3.10/dist-packages (from matplotlib->mediapipe) (1.4.4)\n",
            "Requirement already satisfied: packaging>=20.0 in /usr/local/lib/python3.10/dist-packages (from matplotlib->mediapipe) (23.1)\n",
            "Requirement already satisfied: pillow>=6.2.0 in /usr/local/lib/python3.10/dist-packages (from matplotlib->mediapipe) (8.4.0)\n",
            "Requirement already satisfied: pyparsing>=2.3.1 in /usr/local/lib/python3.10/dist-packages (from matplotlib->mediapipe) (3.0.9)\n",
            "Requirement already satisfied: python-dateutil>=2.7 in /usr/local/lib/python3.10/dist-packages (from matplotlib->mediapipe) (2.8.2)\n",
            "Requirement already satisfied: pycparser in /usr/local/lib/python3.10/dist-packages (from CFFI>=1.0->sounddevice>=0.4.4->mediapipe) (2.21)\n",
            "Requirement already satisfied: six>=1.5 in /usr/local/lib/python3.10/dist-packages (from python-dateutil>=2.7->matplotlib->mediapipe) (1.16.0)\n"
          ]
        }
      ],
      "source": [
        "!pip install mediapipe"
      ]
    },
    {
      "cell_type": "code",
      "source": [
        "# Step 1:  Import all necessary libraries\n",
        "\n",
        "import cv2\n",
        "import mediapipe as mp"
      ],
      "metadata": {
        "id": "TAWVmA0YNH2A"
      },
      "execution_count": null,
      "outputs": []
    },
    {
      "cell_type": "code",
      "source": [
        "# Step 2: Identify your webcam\n",
        "\n",
        "cap = cv2.VideoCapture(1) # Local webcam - 0, External Webcam - 1"
      ],
      "metadata": {
        "id": "gYs5GE0CNIBW"
      },
      "execution_count": null,
      "outputs": []
    },
    {
      "cell_type": "code",
      "source": [
        "# Leveraging the Mediapipe library used for hand detection\n",
        "\n",
        "mpHands = mp.solutions.hands\n",
        "hands = mpHands.Hands()\n",
        "mpDraw = mp.solutions.drawing_utils\n"
      ],
      "metadata": {
        "id": "H4PsJ9gmPKFE"
      },
      "execution_count": null,
      "outputs": []
    },
    {
      "cell_type": "code",
      "source": [
        "# Step 3: Switch on Webcam\n",
        "\n",
        "while True:\n",
        "    ret, img = cap.read()\n",
        "    if not ret:\n",
        "        break\n",
        "\n",
        "    # Convert image from BGR to RGB\n",
        "    imgRGB = cv2.cvtColor(img, cv2.COLOR_BGR2RGB)\n",
        "\n",
        "    # Apply mediapipe\n",
        "    results = hands.process(image=imgRGB)\n",
        "\n",
        "    # Print hand landmarks\n",
        "    if results.multi_hand_landmarks:\n",
        "        for hand_landmarks in results.multi_hand_landmarks:\n",
        "            for id, lm in enumerate(hand_landmarks.landmark):\n",
        "                print(id, lm)\n",
        "\n",
        "                mpDraw.draw_landmarks(img, handlms, mpHands.HAND_CONNECTIONS)\n",
        "\n",
        "    cv2.putText(img, \"Joshua's Hand Detection Project\", (10, 70), cv2.FONT_HERSHEY_PLAIN, 3 (255, 255, 255) )\n",
        "    cv2.imshow(\"Joshua's Hand Detection Project\", img)\n",
        "    if cv2.waitKey(1) & 0xFF == ord('q'):\n",
        "        break\n",
        "  \n",
        "# Release the Capture once all the processing is done.\n",
        "cap.release()\n",
        "cv2.destroyAllWindows()\n",
        "\n"
      ],
      "metadata": {
        "colab": {
          "base_uri": "https://localhost:8080/"
        },
        "id": "9RN42k9pNIGn",
        "outputId": "710f8c73-26c0-4794-9399-25d28c12a97a"
      },
      "execution_count": null,
      "outputs": [
        {
          "output_type": "stream",
          "name": "stderr",
          "text": [
            "<>:22: SyntaxWarning: 'int' object is not callable; perhaps you missed a comma?\n",
            "<>:22: SyntaxWarning: 'int' object is not callable; perhaps you missed a comma?\n",
            "<ipython-input-31-ed24bf509826>:22: SyntaxWarning: 'int' object is not callable; perhaps you missed a comma?\n",
            "  cv2.putText(img, \"Joshua's Hand Detection Project\", (10, 70), cv2.FONT_HERSHEY_PLAIN, 3 (255, 255, 255) )\n"
          ]
        }
      ]
    }
  ]
}